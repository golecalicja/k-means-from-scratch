{
 "cells": [
  {
   "cell_type": "code",
   "execution_count": 1,
   "id": "8cf7007d",
   "metadata": {},
   "outputs": [],
   "source": [
    "import pandas as pd\n",
    "import numpy as np\n",
    "from math import sqrt\n",
    "import matplotlib.pyplot as plt"
   ]
  },
  {
   "cell_type": "code",
   "execution_count": 2,
   "id": "f6c31062",
   "metadata": {},
   "outputs": [],
   "source": [
    "k = 4\n",
    "np.random.seed(1)"
   ]
  },
  {
   "cell_type": "code",
   "execution_count": 3,
   "id": "9f845b7c",
   "metadata": {},
   "outputs": [],
   "source": [
    "df_with_labels = pd.read_csv('data/iris_all.csv', index_col=0)\n",
    "df = df_with_labels.drop(columns=['Species'])"
   ]
  },
  {
   "cell_type": "code",
   "execution_count": 4,
   "id": "423d9e2f",
   "metadata": {},
   "outputs": [],
   "source": [
    "number_of_observations = len(df)\n",
    "number_of_dimensions = len(df.columns)\n",
    "min_value = df.min().min()\n",
    "max_value = df.max().max()"
   ]
  },
  {
   "cell_type": "code",
   "execution_count": 5,
   "id": "ca19cedd",
   "metadata": {},
   "outputs": [],
   "source": [
    "def initialize_centroids():\n",
    "    centroids = []\n",
    "  \n",
    "    for centroid in range(k):\n",
    "        centroid = np.random.uniform(min_value, max_value, number_of_dimensions)\n",
    "        centroids.append(centroid)\n",
    "\n",
    "    return centroids"
   ]
  },
  {
   "cell_type": "code",
   "execution_count": 6,
   "id": "3bd156be",
   "metadata": {},
   "outputs": [],
   "source": [
    "def calculate_euclidean_distance(x1, x2):\n",
    "    distance = 0\n",
    "    for i in range(number_of_dimensions):\n",
    "        distance += (x1[i] - x2[i]) ** 2\n",
    "    return sqrt(distance)"
   ]
  },
  {
   "cell_type": "code",
   "execution_count": 7,
   "id": "87953ac9",
   "metadata": {},
   "outputs": [],
   "source": [
    "def get_errors(observation, centroids):\n",
    "    errors = []\n",
    "    for centroid in centroids:\n",
    "        error = calculate_euclidean_distance(observation, centroid)\n",
    "        errors.append(error)\n",
    "    return errors"
   ]
  },
  {
   "cell_type": "code",
   "execution_count": 8,
   "id": "40160354",
   "metadata": {},
   "outputs": [],
   "source": [
    "def assign_centroids(centroids):\n",
    "    centroid_assign = []\n",
    "    centroid_errors = []\n",
    "    data = df.to_numpy()\n",
    "    \n",
    "    for observation in data:\n",
    "        errors = get_errors(observation, centroids)\n",
    "        closest_centroid = errors.index(min(errors))\n",
    "        centroid_error = min(errors)\n",
    "\n",
    "        centroid_assign.append(closest_centroid)\n",
    "        centroid_errors.append(centroid_error)\n",
    "\n",
    "    return centroid_assign, centroid_errors"
   ]
  },
  {
   "cell_type": "code",
   "execution_count": 9,
   "id": "2b13a99e",
   "metadata": {},
   "outputs": [],
   "source": [
    "def kmeans():\n",
    "    centroids = initialize_centroids()\n",
    "    total_error = 0\n",
    "    loop_condition = True\n",
    "    i = 0\n",
    "    \n",
    "    while(loop_condition):\n",
    "        df['Centroid'], centroid_errors  = assign_centroids(centroids)\n",
    "        \n",
    "        if total_error == sum(centroid_errors):\n",
    "            loop_condition = False\n",
    "            \n",
    "        total_error = sum(centroid_errors)\n",
    "        \n",
    "        centroids = df.groupby('Centroid').aggregate('mean').reset_index(drop = True)\n",
    "        centroids = centroids.to_numpy()\n",
    "        \n",
    "        print(i)\n",
    "        print(total_error)\n",
    "        i += 1"
   ]
  },
  {
   "cell_type": "code",
   "execution_count": 10,
   "id": "a3d26dc6",
   "metadata": {},
   "outputs": [
    {
     "name": "stdout",
     "output_type": "stream",
     "text": [
      "0\n",
      "732.4405188559748\n",
      "1\n",
      "116.48921684939155\n",
      "2\n",
      "104.31856782368888\n",
      "3\n",
      "99.69280588748012\n",
      "4\n",
      "98.36502981782091\n",
      "5\n",
      "98.05081457534052\n",
      "6\n",
      "97.79680272026668\n",
      "7\n",
      "97.46664149213983\n",
      "8\n",
      "97.2788014001845\n",
      "9\n",
      "97.20584742866642\n",
      "10\n",
      "97.12505123764717\n",
      "11\n",
      "97.06877456223792\n",
      "12\n",
      "97.2248690338732\n",
      "13\n",
      "97.2248690338732\n"
     ]
    }
   ],
   "source": [
    "kmeans()"
   ]
  },
  {
   "cell_type": "code",
   "execution_count": 11,
   "id": "8bf5a594",
   "metadata": {},
   "outputs": [
    {
     "name": "stdout",
     "output_type": "stream",
     "text": [
      "    Centroid Species\n",
      "nr                  \n",
      "4          0  setosa\n",
      "5          0  setosa\n",
      "10         0  setosa\n",
      "11         0  setosa\n",
      "16         0  setosa\n",
      "17         0  setosa\n",
      "22         0  setosa\n",
      "23         0  setosa\n",
      "28         0  setosa\n",
      "29         0  setosa\n",
      "34         0  setosa\n",
      "35         0  setosa\n",
      "40         0  setosa\n",
      "41         0  setosa\n",
      "46         0  setosa\n",
      "47         0  setosa\n",
      "1          0  setosa\n",
      "2          0  setosa\n",
      "3          0  setosa\n",
      "6          0  setosa\n",
      "7          0  setosa\n",
      "8          0  setosa\n",
      "9          0  setosa\n",
      "12         0  setosa\n",
      "13         0  setosa\n",
      "14         0  setosa\n",
      "15         0  setosa\n",
      "18         0  setosa\n",
      "19         0  setosa\n",
      "20         0  setosa\n",
      "21         0  setosa\n",
      "24         0  setosa\n",
      "25         0  setosa\n",
      "26         0  setosa\n",
      "27         0  setosa\n",
      "30         0  setosa\n",
      "31         0  setosa\n",
      "32         0  setosa\n",
      "33         0  setosa\n",
      "36         0  setosa\n",
      "37         0  setosa\n",
      "38         0  setosa\n",
      "39         0  setosa\n",
      "42         0  setosa\n",
      "43         0  setosa\n",
      "44         0  setosa\n",
      "45         0  setosa\n",
      "48         0  setosa\n",
      "49         0  setosa\n",
      "50         0  setosa\n",
      "     Centroid     Species\n",
      "nr                       \n",
      "52          1  versicolor\n",
      "58          1  versicolor\n",
      "59          1  versicolor\n",
      "64          1  versicolor\n",
      "65          1  versicolor\n",
      "..        ...         ...\n",
      "128         1   virginica\n",
      "134         1   virginica\n",
      "139         1   virginica\n",
      "147         1   virginica\n",
      "150         1   virginica\n",
      "\n",
      "[61 rows x 2 columns]\n",
      "     Centroid     Species\n",
      "nr                       \n",
      "53          2  versicolor\n",
      "101         2   virginica\n",
      "106         2   virginica\n",
      "112         2   virginica\n",
      "113         2   virginica\n",
      "118         2   virginica\n",
      "119         2   virginica\n",
      "125         2   virginica\n",
      "130         2   virginica\n",
      "131         2   virginica\n",
      "136         2   virginica\n",
      "137         2   virginica\n",
      "142         2   virginica\n",
      "148         2   virginica\n",
      "149         2   virginica\n",
      "51          2  versicolor\n",
      "78          2  versicolor\n",
      "103         2   virginica\n",
      "104         2   virginica\n",
      "105         2   virginica\n",
      "108         2   virginica\n",
      "109         2   virginica\n",
      "110         2   virginica\n",
      "111         2   virginica\n",
      "116         2   virginica\n",
      "117         2   virginica\n",
      "121         2   virginica\n",
      "123         2   virginica\n",
      "126         2   virginica\n",
      "129         2   virginica\n",
      "132         2   virginica\n",
      "133         2   virginica\n",
      "135         2   virginica\n",
      "138         2   virginica\n",
      "140         2   virginica\n",
      "141         2   virginica\n",
      "144         2   virginica\n",
      "145         2   virginica\n",
      "146         2   virginica\n",
      "Empty DataFrame\n",
      "Columns: [Centroid, Species]\n",
      "Index: []\n"
     ]
    }
   ],
   "source": [
    "labels = df_with_labels['Species']\n",
    "df['Species'] = labels\n",
    "\n",
    "for i in range(k):\n",
    "    data = df[df['Centroid'] == i] \n",
    "    print(data[['Centroid', 'Species']])"
   ]
  },
  {
   "cell_type": "code",
   "execution_count": 12,
   "id": "d1254fce",
   "metadata": {},
   "outputs": [
    {
     "data": {
      "text/plain": [
       "Centroid  Species   \n",
       "0         setosa        100.0%\n",
       "1         versicolor     77.0%\n",
       "          virginica      23.0%\n",
       "2         versicolor      7.7%\n",
       "          virginica      92.3%\n",
       "Name: Species, dtype: object"
      ]
     },
     "execution_count": 12,
     "metadata": {},
     "output_type": "execute_result"
    }
   ],
   "source": [
    "df.groupby('Centroid').Species.value_counts(normalize=True).mul(100).round(1).astype(str).sort_index() + '%'"
   ]
  }
 ],
 "metadata": {
  "kernelspec": {
   "display_name": "Python 3 (ipykernel)",
   "language": "python",
   "name": "python3"
  },
  "language_info": {
   "codemirror_mode": {
    "name": "ipython",
    "version": 3
   },
   "file_extension": ".py",
   "mimetype": "text/x-python",
   "name": "python",
   "nbconvert_exporter": "python",
   "pygments_lexer": "ipython3",
   "version": "3.9.7"
  }
 },
 "nbformat": 4,
 "nbformat_minor": 5
}
